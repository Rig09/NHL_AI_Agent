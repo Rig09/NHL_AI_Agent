{
 "cells": [
  {
   "cell_type": "markdown",
   "metadata": {},
   "source": [
    "# data_preprocess.ipynb\n",
    "Reads NHL shot data from MoneyPuck's [2015-2023 CSV](https://peter-tanner.com/moneypuck/downloads/shots_2015-2023.zip) and transforms it into the input file for our XG modelling."
   ]
  },
  {
   "cell_type": "code",
   "execution_count": 10,
   "metadata": {},
   "outputs": [],
   "source": [
    "# Importing Packages\n",
    "import pandas as pd\n",
    "import numpy as np"
   ]
  },
  {
   "cell_type": "code",
   "execution_count": 11,
   "metadata": {},
   "outputs": [],
   "source": [
    "# Loading shot data CSV from MoneyPuck. https://peter-tanner.com/moneypuck/downloads/shots_2015-2023.zip\n",
    "# TODO: Maybe download separate CSVs by season?\n",
    "# TODO: Check that this CSV is here? Otherwise download it using requests library\n",
    "shot_data = pd.read_csv('data/shots_2015-2023.csv')"
   ]
  },
  {
   "cell_type": "code",
   "execution_count": 12,
   "metadata": {},
   "outputs": [],
   "source": [
    "# TODO: Revisit column list, reference notes/MoneyPuck_Shot_Data_Dictionary.csv for data dictionary\n",
    "\n",
    "# Filling df with only the columns above\n",
    "shot_data = shot_data.loc[:, ['isPlayoffGame', 'timeSinceLastEvent', 'period', 'location', 'event', 'homeTeamGoals', 'awayTeamGoals', 'shotAngleAdjusted', 'shotDistance', 'shotType', 'shotOnEmptyNet', 'shotRebound', 'homeSkatersOnIce', 'awaySkatersOnIce', 'isHomeTeam']]"
   ]
  },
  {
   "cell_type": "code",
   "execution_count": 13,
   "metadata": {},
   "outputs": [],
   "source": [
    "# TODO: Discuss whether or not we want to do transformations (or take moneypuck transformed features)\n",
    "     # X and Y cords + angle\n",
    "\n",
    "# TODO: Discuss whether or not we include MoneyPuck features\n",
    "     # Rebound\n",
    "     # Empty net\n",
    "     # Off the rush\n",
    "     # Speed from last event\n",
    "     # Last event type + coordinates\n",
    "     # Last event shot angle + distance\n",
    "     # Last event category\n",
    "     # Home empty net\n",
    "     # Away empty net\n",
    "     # Penalty length/time left?\n",
    "     # Shooter handedness\n",
    "     # TODO: Goalie handedness? Not listed here though so we would have to collect this and merge it into the dataset\n",
    "     # Shooting team # of forwards or D on the ice?\n",
    "     # Shift length of the shooter, and TOI for the shooter\n",
    "     # Off Wing?\n",
    "     # Time in game?"
   ]
  },
  {
   "cell_type": "code",
   "execution_count": 14,
   "metadata": {},
   "outputs": [],
   "source": [
    "# One hot encode shot type\n",
    "one_hot_encoded = pd.get_dummies(shot_data['shotType'], prefix='shotType')\n",
    "one_hot_encoded = one_hot_encoded.astype(int)\n",
    "shot_data = pd.concat([shot_data, one_hot_encoded], axis=1)\n",
    "shot_data = shot_data.drop(columns='shotType')"
   ]
  },
  {
   "cell_type": "code",
   "execution_count": 15,
   "metadata": {},
   "outputs": [],
   "source": [
    "# TODO: Double check these 3 sets of transformations.\n",
    "\n",
    "# Counting skaters on the shooting team and defending team instead of home/away\n",
    "shot_data['shootingSkatersOnIce'] = shot_data.apply(\n",
    "     lambda row: row['homeSkatersOnIce'] if row['isHomeTeam'] else row['awaySkatersOnIce'], axis=1\n",
    ")\n",
    "shot_data['defendingSkatersOnIce'] = shot_data.apply(\n",
    "     lambda row: row['awaySkatersOnIce'] if row['isHomeTeam'] else row['homeSkatersOnIce'], axis=1\n",
    ")\n",
    "\n",
    "# Same transformation as above for score\n",
    "shot_data['shootingTeamGoals'] = shot_data.apply(\n",
    "     lambda row: row['homeTeamGoals'] if row['isHomeTeam'] else row['awayTeamGoals'], axis=1\n",
    ")\n",
    "shot_data['defendingTeamGoals'] = shot_data.apply(\n",
    "     lambda row: row['awayTeamGoals'] if row['isHomeTeam'] else row['homeTeamGoals'], axis=1\n",
    ")\n",
    "\n",
    "# Setting bool for if shooting team is in offensive zone\n",
    "shot_data['inOffensiveZone'] = shot_data.apply(\n",
    "     lambda row: 1 if (row['isHomeTeam'] and row['location'] == 'AWAYZONE') or \n",
    "               (not row['isHomeTeam'] and row['location'] == 'HOMEZONE') \n",
    "               else 0, axis=1\n",
    ")\n",
    "# Setting bool for if shooting team is in neutral zone\n",
    "shot_data['inNeutralZone'] = shot_data['location'].apply(lambda x: 1 if x == 'Neu. Zone' else 0)\n",
    "\n",
    "# Drop old cols\n",
    "shot_data = shot_data.drop(['homeSkatersOnIce', 'awaySkatersOnIce', 'homeTeamGoals', 'awayTeamGoals', 'location'], axis=1)\n"
   ]
  },
  {
   "cell_type": "code",
   "execution_count": 16,
   "metadata": {},
   "outputs": [],
   "source": [
    "# Encoding goals as 1 and misses or saves as 0\n",
    "shot_data['isGoal'] = shot_data['event'].apply(lambda x: 1 if x.lower() == 'goal' else 0)\n",
    "\n",
    "shot_data = shot_data.drop('event', axis=1)"
   ]
  },
  {
   "cell_type": "code",
   "execution_count": 17,
   "metadata": {},
   "outputs": [
    {
     "name": "stdout",
     "output_type": "stream",
     "text": [
      "Index(['isPlayoffGame', 'timeSinceLastEvent', 'period', 'shotAngleAdjusted',\n",
      "       'shotDistance', 'shotOnEmptyNet', 'shotRebound', 'isHomeTeam',\n",
      "       'shotType_BACK', 'shotType_DEFL', 'shotType_SLAP', 'shotType_SNAP',\n",
      "       'shotType_TIP', 'shotType_WRAP', 'shotType_WRIST',\n",
      "       'shootingSkatersOnIce', 'defendingSkatersOnIce', 'shootingTeamGoals',\n",
      "       'defendingTeamGoals', 'inOffensiveZone', 'inNeutralZone', 'isGoal'],\n",
      "      dtype='object')\n"
     ]
    }
   ],
   "source": [
    "print(shot_data.columns)\n",
    "# TODO: DEFL vs TIP shot type? Investigate"
   ]
  },
  {
   "cell_type": "code",
   "execution_count": 18,
   "metadata": {},
   "outputs": [],
   "source": [
    "# Save DF to CSV\n",
    "shot_data.to_csv('data/xg_shot_input_2015-2023.csv', index=False)"
   ]
  }
 ],
 "metadata": {
  "kernelspec": {
   "display_name": "ELEC390",
   "language": "python",
   "name": "python3"
  },
  "language_info": {
   "codemirror_mode": {
    "name": "ipython",
    "version": 3
   },
   "file_extension": ".py",
   "mimetype": "text/x-python",
   "name": "python",
   "nbconvert_exporter": "python",
   "pygments_lexer": "ipython3",
   "version": "3.9.18"
  }
 },
 "nbformat": 4,
 "nbformat_minor": 2
}
