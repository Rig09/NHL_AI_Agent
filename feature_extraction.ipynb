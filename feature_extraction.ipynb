{
 "cells": [
  {
   "cell_type": "code",
   "execution_count": 1,
   "metadata": {},
   "outputs": [],
   "source": [
    "import pandas as pd\n",
    "\n",
    "full_df = pd.read_csv('data/2022_2023/nhl_pbp_20222023.csv')\n",
    "\n",
    "# full_df = full_df[full_df[\"Event\"].isin([\"SHOT\", \"GOAL\"])]"
   ]
  },
  {
   "cell_type": "markdown",
   "metadata": {},
   "source": [
    "Empty net goal testing"
   ]
  },
  {
   "cell_type": "code",
   "execution_count": 2,
   "metadata": {},
   "outputs": [
    {
     "name": "stdout",
     "output_type": "stream",
     "text": [
      "463\n",
      "2\n"
     ]
    }
   ],
   "source": [
    "# Trying to find out pulling goalies. In progress\n",
    "empty_net_condition = (full_df[\"Away_Goalie\"].isnull() & full_df[\"Away_Goalie_Id\"].isnull() & (full_df[\"Ev_Team\"] == full_df[\"Home_Team\"])) | (full_df[\"Home_Goalie\"].isnull() & full_df[\"Home_Goalie_Id\"].isnull() & (full_df[\"Ev_Team\"] == full_df[\"Away_Team\"]))\n",
    "empty_net_df = full_df[empty_net_condition]\n",
    "empty_net_goals = empty_net_df[empty_net_df[\"Event\"] == \"GOAL\"]\n",
    "# print(empty_net_goals[\"p1_name\"].value_counts())\n",
    "empty_net_shots = empty_net_df[empty_net_df[\"Event\"] == \"SHOT\"]  # Note that these are errors. How could there be a shot on net into an empty net that isn't a goal?\n",
    "print(len(empty_net_goals))\n",
    "# Line 7 should match https://www.statmuse.com/nhl/ask?q=teams+with+least+empty+net+goals+2022-2023 and  https://www.statmuse.com/nhl/ask?q=teams+with+most+empty+net+goals+2022-2023 totals\n",
    "\n",
    "print((len(empty_net_shots)))  # NOTE: These come very close to too many men penalties, so the goalie isn't pulled but there are 6 on?"
   ]
  },
  {
   "cell_type": "markdown",
   "metadata": {},
   "source": [
    "Penalty Shot Testing"
   ]
  },
  {
   "cell_type": "code",
   "execution_count": 3,
   "metadata": {},
   "outputs": [
    {
     "data": {
      "text/plain": [
       "55"
      ]
     },
     "execution_count": 3,
     "metadata": {},
     "output_type": "execute_result"
    }
   ],
   "source": [
    "penalty_full_df = full_df[full_df['Description'].str.contains('Penalty Shot')]\n",
    "len(penalty_full_df)\n",
    "# NOTE: Include Shootout Shots? Should penalty shots even be included at all?"
   ]
  },
  {
   "cell_type": "markdown",
   "metadata": {},
   "source": [
    "The block below calculates the time elapsed in seconds, from when the event team had its last shot (including misses.)"
   ]
  },
  {
   "cell_type": "code",
   "execution_count": 4,
   "metadata": {},
   "outputs": [
    {
     "name": "stdout",
     "output_type": "stream",
     "text": [
      "Time_Since_Last_Shot\n",
      "0 days 00:00:01    3368\n",
      "0 days 00:00:02    2917\n",
      "0 days 00:00:07    2294\n",
      "0 days 00:00:06    2269\n",
      "0 days 00:00:05    2220\n",
      "                   ... \n",
      "0 days 00:16:52       1\n",
      "0 days 00:09:32       1\n",
      "0 days 00:09:41       1\n",
      "0 days 00:09:12       1\n",
      "0 days 00:10:29       1\n",
      "Name: count, Length: 706, dtype: int64\n"
     ]
    },
    {
     "name": "stderr",
     "output_type": "stream",
     "text": [
      "C:\\Users\\agjri\\AppData\\Local\\Temp\\ipykernel_25408\\2366518473.py:4: SettingWithCopyWarning: \n",
      "A value is trying to be set on a copy of a slice from a DataFrame.\n",
      "Try using .loc[row_indexer,col_indexer] = value instead\n",
      "\n",
      "See the caveats in the documentation: https://pandas.pydata.org/pandas-docs/stable/user_guide/indexing.html#returning-a-view-versus-a-copy\n",
      "  shot_df['Seconds_Elapsed'] = pd.to_timedelta(shot_df['Seconds_Elapsed'], unit='s')\n"
     ]
    }
   ],
   "source": [
    "shot_df = full_df[full_df[\"Event\"].isin([\"SHOT\", \"GOAL\", \"MISS\"])]\n",
    "\n",
    "# Convert elapsed_time to timedelta for calculations\n",
    "shot_df['Seconds_Elapsed'] = pd.to_timedelta(shot_df['Seconds_Elapsed'], unit='s')\n",
    "\n",
    "# Sort the dataframe by game_id, period, and elapsed_time\n",
    "# NOTE: Isn't this already done?\n",
    "shot_df = shot_df.sort_values(by=['Game_Id', 'Period', 'Seconds_Elapsed'])\n",
    "\n",
    "# Create a new column to store the time since last event or start of period\n",
    "shot_df['Time_Since_Last_Shot'] = shot_df.groupby(['Game_Id', 'Period', 'Ev_Team'])['Seconds_Elapsed'].diff().fillna(shot_df['Seconds_Elapsed'])\n",
    "\n",
    "print(shot_df['Time_Since_Last_Shot'].value_counts())\n",
    "\n",
    "# TODO: Time since last shot for the non-event team? (Would show transition, etc.) \n",
    "\t# This just shows time since last shot, rather than having time since last event + the prev event location"
   ]
  },
  {
   "cell_type": "markdown",
   "metadata": {},
   "source": [
    "Shot Location Adjustments"
   ]
  },
  {
   "cell_type": "code",
   "execution_count": 5,
   "metadata": {},
   "outputs": [],
   "source": [
    "# TODO: (If a shot comes from the blue line, how can you tell which way it's going?). Use home_players and away_players?"
   ]
  }
 ],
 "metadata": {
  "kernelspec": {
   "display_name": "ELEC390",
   "language": "python",
   "name": "python3"
  },
  "language_info": {
   "codemirror_mode": {
    "name": "ipython",
    "version": 3
   },
   "file_extension": ".py",
   "mimetype": "text/x-python",
   "name": "python",
   "nbconvert_exporter": "python",
   "pygments_lexer": "ipython3",
   "version": "3.11.9"
  }
 },
 "nbformat": 4,
 "nbformat_minor": 2
}
